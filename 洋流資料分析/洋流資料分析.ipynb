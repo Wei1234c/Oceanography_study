{
 "cells": [
  {
   "cell_type": "markdown",
   "metadata": {},
   "source": [
    "# 洋流資料分析\n",
    "https://pypi.python.org/pypi/folium  \n",
    "https://github.com/python-visualization/folium  \n",
    "https://folium.readthedocs.io/en/latest/  \n",
    "https://ocefpaf.github.io/python4oceanographers/blog/2015/11/16/folium_quiver/  \n",
    "http://www.digital-geography.com/python-and-webmaps-folium/#.V6w07Pl96T8"
   ]
  },
  {
   "cell_type": "code",
   "execution_count": null,
   "metadata": {
    "collapsed": false
   },
   "outputs": [],
   "source": [
    "%pylab inline\n",
    "import pandas as pd\n",
    "import folium\n",
    "import mplleaflet\n",
    "# from pprint import pprint"
   ]
  },
  {
   "cell_type": "code",
   "execution_count": null,
   "metadata": {
    "collapsed": true
   },
   "outputs": [],
   "source": [
    "def read_data_file(file):\n",
    "\n",
    "    with open(file) as f:\n",
    "        df = pd.read_csv(f,  \n",
    "                         delim_whitespace = True,\n",
    "                         comment = '%', \n",
    "                         header = None\n",
    "                        )\n",
    "    \n",
    "    df.index.name = 'No.' \n",
    "\n",
    "    columns = ['Longitude', 'Latitude', 'U comp', 'V comp', 'VectorFlag', 'U StdDev', 'V StdDev', \n",
    "               'Covariance', 'StdDev', 'X Distance', 'Y Distance', 'Range', 'Bearing', 'Velocity', 'Direction']    \n",
    "    site_contributors_count = 16\n",
    "    columns.extend(['Site Contributor {0}'.format(i) for i in range(1, site_contributors_count + 1)])\n",
    "    df.columns = columns\n",
    "    \n",
    "    return df"
   ]
  },
  {
   "cell_type": "code",
   "execution_count": null,
   "metadata": {
    "collapsed": false
   },
   "outputs": [],
   "source": [
    "def do_mplleaflet(lons, lats, u, v, \n",
    "                  sub = 1, scale = 1000,\n",
    "                  color = 'deepskyblue',\n",
    "                  alpha = 0.8, \n",
    "                  file = 'mplleaflet_map.html',\n",
    "                  tiles = 'esri_aerial'):\n",
    "    \n",
    "    ax.quiver(lons[::sub], lats[::sub], u[::sub], v[::sub], \n",
    "              color = color, alpha = alpha, scale = scale)\n",
    "\n",
    "    gj = mplleaflet.fig_to_geojson(fig = fig) \n",
    "    mplleaflet.save_html(fig = fig, fileobj = file, tiles = tiles)\n",
    "#     mplleaflet.display(fig = fig, tiles = 'esri_aerial')\n",
    "    \n",
    "    return gj"
   ]
  },
  {
   "cell_type": "code",
   "execution_count": null,
   "metadata": {
    "collapsed": true
   },
   "outputs": [],
   "source": [
    "def get_quiver_marker_layer(geojson):\n",
    "    feature_group = folium.FeatureGroup(name='quiver')\n",
    "\n",
    "    for feature in geojson['features']:\n",
    "        if feature['geometry']['type'] == 'Point':\n",
    "            lon, lat = feature['geometry']['coordinates']\n",
    "            div = feature['properties']['html']\n",
    "\n",
    "            icon_anchor = (feature['properties']['anchor_x'],\n",
    "                           feature['properties']['anchor_y'])\n",
    "\n",
    "            icon = folium.features.DivIcon(html = div, icon_anchor = icon_anchor)\n",
    "            marker = folium.Marker([lat, lon], icon = icon)\n",
    "            feature_group.add_children(marker)\n",
    "        else:\n",
    "            msg = \"Unexpected geometry {}\".format\n",
    "            raise ValueError(msg(feature['geometry']))\n",
    "\n",
    "    return feature_group"
   ]
  },
  {
   "cell_type": "code",
   "execution_count": null,
   "metadata": {
    "collapsed": false
   },
   "outputs": [],
   "source": [
    "def get_WMS_tile_layer(url = 'http://gmrt.marine-geo.org/cgi-bin/mapserv?map=/public/mgg/web/gmrt.marine-geo.org/htdocs/services/map/wms_merc.map'):   \n",
    "    \n",
    "    wms = folium.features.WmsTileLayer(url, name='GMRT',\n",
    "                                       format='image/png',\n",
    "                                       layers='topo',\n",
    "                                       transparent=True)\n",
    "    \n",
    "    feature_group = folium.FeatureGroup(name='Topo')\n",
    "    feature_group.add_children(wms)\n",
    "    \n",
    "    return feature_group"
   ]
  },
  {
   "cell_type": "code",
   "execution_count": null,
   "metadata": {
    "collapsed": false
   },
   "outputs": [],
   "source": [
    "if __name__ == '__main__':\n",
    "    \n",
    "    file = 'TOTL_TORO_2015W01.tuv'\n",
    "    df = read_data_file(file)\n",
    "    output_file = 'folium_map.html'\n",
    "    \n",
    "    fig, ax = plt.subplots()\n",
    "    gj = do_mplleaflet(df['Longitude'], df['Latitude'], df['U comp'], df['V comp'])\n",
    "    gj = do_mplleaflet(df['Longitude'], df['Latitude'], df['U comp'], df['V comp'], color = 'black', file = output_file)\n",
    "    \n",
    "    quiver_layer = get_quiver_marker_layer(gj)    \n",
    "    WMS_tile_layer = get_WMS_tile_layer()\n",
    "    \n",
    "    mapOBJ = folium.Map(location = [df.Latitude.mean(), df.Longitude.mean()], tiles = \"OpenStreetMap\", zoom_start = 7)\n",
    "\n",
    "    mapOBJ.add_children(WMS_tile_layer)\n",
    "    mapOBJ.add_children(quiver_layer)\n",
    "    mapOBJ.add_children(folium.map.LayerControl())\n",
    "\n",
    "    mapOBJ.save(output_file)    "
   ]
  }
 ],
 "metadata": {
  "kernelspec": {
   "display_name": "Python 3",
   "language": "python",
   "name": "python3"
  },
  "language_info": {
   "codemirror_mode": {
    "name": "ipython",
    "version": 3
   },
   "file_extension": ".py",
   "mimetype": "text/x-python",
   "name": "python",
   "nbconvert_exporter": "python",
   "pygments_lexer": "ipython3",
   "version": "3.5.1"
  }
 },
 "nbformat": 4,
 "nbformat_minor": 0
}
