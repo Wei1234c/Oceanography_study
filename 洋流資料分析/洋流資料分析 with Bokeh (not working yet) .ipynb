{
 "cells": [
  {
   "cell_type": "markdown",
   "metadata": {},
   "source": [
    "# 洋流資料分析 with Bokeh (not working yet) \n",
    "http://bokeh.pydata.org/en/latest/docs/user_guide/geo.html  \n",
    "http://bokeh.pydata.org/en/latest/docs/user_guide/compat.html  \n",
    "https://github.com/bokeh/bokeh/blob/0.12.1/examples/compat/mpl_plot.py"
   ]
  },
  {
   "cell_type": "code",
   "execution_count": null,
   "metadata": {
    "collapsed": false
   },
   "outputs": [],
   "source": [
    "%pylab inline\n",
    "import pandas as pd\n",
    "import mplleaflet\n",
    "# from pprint import pprint"
   ]
  },
  {
   "cell_type": "code",
   "execution_count": null,
   "metadata": {
    "collapsed": true
   },
   "outputs": [],
   "source": [
    "def read_data_file(file):\n",
    "\n",
    "    with open(file) as f:\n",
    "        df = pd.read_csv(f,  \n",
    "                         delim_whitespace = True,\n",
    "                         comment = '%', \n",
    "                         header = None\n",
    "                        )\n",
    "    \n",
    "    # index 名稱\n",
    "    df.index.name = 'No.' \n",
    "\n",
    "    # columns 名稱\n",
    "    columns = ['Longitude', 'Latitude', 'U comp', 'V comp', 'VectorFlag', 'U StdDev', 'V StdDev', \n",
    "               'Covariance', 'StdDev', 'X Distance', 'Y Distance', 'Range', 'Bearing', 'Velocity', 'Direction']    \n",
    "    site_contributors_count = 16\n",
    "    columns.extend(['Site Contributor {0}'.format(i) for i in range(1, site_contributors_count + 1)])\n",
    "    df.columns = columns\n",
    "    \n",
    "    return df"
   ]
  },
  {
   "cell_type": "code",
   "execution_count": null,
   "metadata": {
    "collapsed": false
   },
   "outputs": [],
   "source": [
    "def do_matplotlib_quiver(lons, lats, u, v, \n",
    "                         sub = 1, scale = 1000,\n",
    "                         color = 'deepskyblue',\n",
    "                         alpha = 0.8):    \n",
    "    # 描繪各點向量\n",
    "    ax.quiver(lons[::sub], lats[::sub], u[::sub], v[::sub], \n",
    "              color = color, alpha = alpha, scale = scale)"
   ]
  },
  {
   "cell_type": "code",
   "execution_count": null,
   "metadata": {
    "collapsed": false
   },
   "outputs": [],
   "source": [
    "from bokeh.io import output_file, show\n",
    "from bokeh.models import GeoJSONDataSource\n",
    "from bokeh.plotting import figure\n",
    "from bokeh.sampledata.sample_geojson import geojson\n",
    "\n",
    "# geo_source = GeoJSONDataSource(geojson = gj)\n",
    "\n",
    "# p = figure()\n",
    " \n",
    "# output_file(\"geojson.html\")\n",
    "# show(p)"
   ]
  },
  {
   "cell_type": "code",
   "execution_count": null,
   "metadata": {
    "collapsed": false
   },
   "outputs": [],
   "source": [
    "if __name__ == '__main__':\n",
    "        \n",
    "    # parse 原始資料\n",
    "    file = 'TOTL_TORO_2015W01.tuv'\n",
    "    df = read_data_file(file)\n",
    "    \n",
    "    fig, ax = plt.subplots()\n",
    "    # 描繪各點向量\n",
    "    do_matplotlib_quiver(df['Longitude'], df['Latitude'], df['U comp'], df['V comp'], color = 'black')\n",
    "    \n",
    "#     p = to_bokeh(fig)\n",
    "#     show(p)\n",
    "\n",
    "    show(to_bokeh())\n",
    "    \n",
    "#     plt.show()"
   ]
  },
  {
   "cell_type": "code",
   "execution_count": null,
   "metadata": {
    "collapsed": false
   },
   "outputs": [],
   "source": [
    "from bokeh.io import output_file, show\n",
    "from bokeh.models import (GMapPlot, GMapOptions, ColumnDataSource, Circle, DataRange1d, PanTool, WheelZoomTool, BoxSelectTool)\n",
    "\n",
    "map_options = GMapOptions(lat=df['Latitude'].mean(), lng=df['Longitude'].mean(), map_type=\"roadmap\", zoom=7)\n",
    "\n",
    "plot = GMapPlot(\n",
    "    x_range=DataRange1d(), y_range=DataRange1d(), map_options=map_options\n",
    ")\n",
    "plot.title = \"Taiwan\"\n",
    "\n",
    "# source = ColumnDataSource(\n",
    "#     data=dict(\n",
    "#         lat=[30.29, 30.20, 30.29],\n",
    "#         lon=[-97.70, -97.74, -97.78],\n",
    "#     )\n",
    "# )\n",
    "\n",
    "# circle = Circle(x=\"lon\", y=\"lat\", size=15, fill_color=\"blue\", fill_alpha=0.8, line_color=None)\n",
    "# plot.add_glyph(source, circle)\n",
    "to_bokeh(fig)\n",
    "\n",
    "plot.add_tools(PanTool(), WheelZoomTool(), BoxSelectTool())\n",
    "output_file(\"gmap_plot.html\")\n",
    "show(plot)"
   ]
  },
  {
   "cell_type": "code",
   "execution_count": null,
   "metadata": {
    "collapsed": false
   },
   "outputs": [],
   "source": [
    "from bokeh.io import output_file, show\n",
    "from bokeh.plotting import figure\n",
    "from bokeh.tile_providers import STAMEN_TONER, STAMEN_TERRAIN \n",
    "\n",
    "bound = 20000000 # meters\n",
    "fig = figure(tools='pan, wheel_zoom', x_range=(-bound, bound), y_range=(-bound, bound))\n",
    "fig.axis.visible = False\n",
    "fig.add_tile(STAMEN_TERRAIN)\n",
    "output_file(\"stamen_toner_plot.html\")\n",
    "show(fig)"
   ]
  },
  {
   "cell_type": "code",
   "execution_count": null,
   "metadata": {
    "collapsed": true
   },
   "outputs": [],
   "source": [
    "import matplotlib.pyplot as plt\n",
    "import numpy as np\n",
    "\n",
    "from bokeh import mpl\n",
    "from bokeh.plotting import output_file, show\n",
    "\n",
    "x = np.linspace(-2 * np.pi, 2 * np.pi, 100)\n",
    "y = np.sin(x)\n",
    "z = np.cos(x)\n",
    "\n",
    "plt.plot(x, y, \"r-\", marker='o')\n",
    "plt.title(\"Matplotlib Figure in Bokeh\")\n",
    "\n",
    "# dashed lines work\n",
    "plt.plot(x, z, \"g-x\", linestyle=\"-.\")\n",
    "\n",
    "output_file(\"mpl_plot.html\", title=\"mpl_plot.py example\")\n",
    "\n",
    "show(mpl.to_bokeh())"
   ]
  }
 ],
 "metadata": {
  "kernelspec": {
   "display_name": "Python 3",
   "language": "python",
   "name": "python3"
  },
  "language_info": {
   "codemirror_mode": {
    "name": "ipython",
    "version": 3
   },
   "file_extension": ".py",
   "mimetype": "text/x-python",
   "name": "python",
   "nbconvert_exporter": "python",
   "pygments_lexer": "ipython3",
   "version": "3.5.1"
  }
 },
 "nbformat": 4,
 "nbformat_minor": 0
}
